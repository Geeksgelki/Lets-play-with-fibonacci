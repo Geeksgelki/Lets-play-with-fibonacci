{
 "cells": [
  {
   "cell_type": "code",
   "execution_count": null,
   "id": "6853563a",
   "metadata": {},
   "outputs": [],
   "source": [
    "#Write a program to find all pairs of an integer array whose sum is equal to a given number"
   ]
  },
  {
   "cell_type": "code",
   "execution_count": 4,
   "id": "9c20d907",
   "metadata": {},
   "outputs": [
    {
     "name": "stdout",
     "output_type": "stream",
     "text": [
      "Count of pairs is 3\n"
     ]
    }
   ],
   "source": [
    "\n",
    "\n",
    "def getPairsCount(arr, n, sum):\n",
    "\n",
    "\tcount = 0 \n",
    "\n",
    "\tfor i in range(0, n):\n",
    "\t\tfor j in range(i + 1, n):\n",
    "\t\t\tif arr[i] + arr[j] == sum:\n",
    "\t\t\t\tcount += 1\n",
    "\n",
    "\treturn count\n",
    "\n",
    "\n",
    "# Driver function\n",
    "arr = [1, 5, 7, -1, 5]\n",
    "n = len(arr)\n",
    "sum = 6\n",
    "print(\"Count of pairs is\", getPairsCount(arr, n, sum))\n",
    "\n"
   ]
  },
  {
   "cell_type": "code",
   "execution_count": 5,
   "id": "e7f96029",
   "metadata": {},
   "outputs": [],
   "source": [
    "#Write a program to reverse an array in place? In place means you cannot create a new array. You have to update the original array."
   ]
  },
  {
   "cell_type": "code",
   "execution_count": 6,
   "id": "cfdd1acb",
   "metadata": {},
   "outputs": [
    {
     "name": "stdout",
     "output_type": "stream",
     "text": [
      "[1, 2, 3, 4, 5, 6]\n",
      "Reversed list is\n",
      "[6, 5, 4, 3, 2, 1]\n"
     ]
    }
   ],
   "source": [
    "def reverseList(A, start, end):\n",
    "\twhile start < end:\n",
    "\t\tA[start], A[end] = A[end], A[start]\n",
    "\t\tstart += 1\n",
    "\t\tend -= 1\n",
    "A = [1, 2, 3, 4, 5, 6]\n",
    "print(A)\n",
    "reverseList(A, 0, 5)\n",
    "print(\"Reversed list is\")\n",
    "print(A)\n",
    "\n"
   ]
  },
  {
   "cell_type": "code",
   "execution_count": 7,
   "id": "de023027",
   "metadata": {},
   "outputs": [],
   "source": [
    "#Write a program to check if two strings are a rotation of each other?"
   ]
  },
  {
   "cell_type": "code",
   "execution_count": 8,
   "id": "17ee5c08",
   "metadata": {},
   "outputs": [
    {
     "name": "stdout",
     "output_type": "stream",
     "text": [
      "Given Strings are rotations of each other.\n"
     ]
    }
   ],
   "source": [
    "def checkRotation(s1, s2): \n",
    "    temp = '' \n",
    "    if len(s1) != len(s2): \n",
    "        return False\n",
    "    temp = s1 + s1 \n",
    "    if s2 in temp: \n",
    "        return True \n",
    "    else: \n",
    "        return False\n",
    "string1 = \"HELLO\"\n",
    "string2 = \"LOHEL\"\n",
    "  \n",
    "if checkRotation(string1, string2): \n",
    "    print(\"Given Strings are rotations of each other.\")\n",
    "else: \n",
    "    print(\"Given Strings are not rotations of each other.\")"
   ]
  },
  {
   "cell_type": "code",
   "execution_count": 9,
   "id": "f9e934e5",
   "metadata": {},
   "outputs": [],
   "source": [
    "#Write a program to print the first non-repeated character from a string?"
   ]
  },
  {
   "cell_type": "code",
   "execution_count": 10,
   "id": "06674500",
   "metadata": {},
   "outputs": [
    {
     "name": "stdout",
     "output_type": "stream",
     "text": [
      "First non-repeating character is D\n"
     ]
    }
   ],
   "source": [
    "string = \"DataScience\"\n",
    "index = -1\n",
    "fnc = \"\"\n",
    "for i in string:\n",
    "\tif string.count(i) == 1:\n",
    "\t\tfnc += i\n",
    "\t\tbreak\n",
    "\telse:\n",
    "\t\tindex += 1\n",
    "if index == 1:\n",
    "\tprint(\"Either all characters are repeating or string is empty\")\n",
    "else:\n",
    "\tprint(\"First non-repeating character is\", fnc)"
   ]
  },
  {
   "cell_type": "code",
   "execution_count": 11,
   "id": "853a0095",
   "metadata": {},
   "outputs": [],
   "source": [
    "#Read about the Tower of Hanoi algorithm. Write a program to implement it."
   ]
  },
  {
   "cell_type": "code",
   "execution_count": 12,
   "id": "a87d3458",
   "metadata": {},
   "outputs": [
    {
     "name": "stdout",
     "output_type": "stream",
     "text": [
      "Move disk 1 from rod A to rod C\n",
      "Move disk 2 from rod A to rod B\n",
      "Move disk 1 from rod C to rod B\n",
      "Move disk 3 from rod A to rod C\n",
      "Move disk 1 from rod B to rod A\n",
      "Move disk 2 from rod B to rod C\n",
      "Move disk 1 from rod A to rod C\n"
     ]
    }
   ],
   "source": [
    "def TowerOfHanoi(n, from_rod, to_rod, aux_rod):\n",
    "\tif n == 0:\n",
    "\t\treturn\n",
    "\tTowerOfHanoi(n-1, from_rod, aux_rod, to_rod)\n",
    "\tprint(\"Move disk\", n, \"from rod\", from_rod, \"to rod\", to_rod)\n",
    "\tTowerOfHanoi(n-1, aux_rod, to_rod, from_rod)\n",
    "N = 3\n",
    "TowerOfHanoi(N, 'A', 'C', 'B')\n",
    "\n",
    "\n"
   ]
  },
  {
   "cell_type": "code",
   "execution_count": 13,
   "id": "0f7aa896",
   "metadata": {},
   "outputs": [],
   "source": [
    "#Read about infix, prefix, and postfix expressions. Write a program to convert postfix to prefix expression."
   ]
  },
  {
   "cell_type": "code",
   "execution_count": 14,
   "id": "bf42d94c",
   "metadata": {},
   "outputs": [
    {
     "name": "stdout",
     "output_type": "stream",
     "text": [
      "Prefix :  +AB-CD\n"
     ]
    }
   ],
   "source": [
    "def isOperator(x):\n",
    "\n",
    "\tif x == \"+\":\n",
    "\t\treturn True\n",
    "\n",
    "\tif x == \"-\":\n",
    "\t\treturn True\n",
    "\n",
    "\tif x == \"/\":\n",
    "\t\treturn True\n",
    "\n",
    "\tif x == \"*\":\n",
    "\t\treturn True\n",
    "\n",
    "\treturn False\n",
    "\n",
    "# Convert postfix to Prefix expression\n",
    "\n",
    "\n",
    "def postToPre(post_exp):\n",
    "\n",
    "\ts = []\n",
    "\n",
    "\t# length of expression\n",
    "\tlength = len(post_exp)\n",
    "\n",
    "\t# reading from right to left\n",
    "\tfor i in range(length):\n",
    "\n",
    "\t\t# check if symbol is operator\n",
    "\t\tif (isOperator(post_exp[i])):\n",
    "\n",
    "\t\t\t# pop two operands from stack\n",
    "\t\t\top1 = s[-1]\n",
    "\t\t\ts.pop()\n",
    "\t\t\top2 = s[-1]\n",
    "\t\t\ts.pop()\n",
    "\n",
    "\t\t\t# concat the operands and operator\n",
    "\t\t\ttemp = post_exp[i] + op2 + op1\n",
    "\n",
    "\t\t\t# Push string temp back to stack\n",
    "\t\t\ts.append(temp)\n",
    "\n",
    "\t\t# if symbol is an operand\n",
    "\t\telse:\n",
    "\n",
    "\t\t\t# push the operand to the stack\n",
    "\t\t\ts.append(post_exp[i])\n",
    "\n",
    "\t\n",
    "\tans = \"\"\n",
    "\tfor i in s:\n",
    "\t\tans += i\n",
    "\treturn ans\n",
    "\n",
    "\n",
    "# Driver Code\n",
    "if __name__ == \"__main__\":\n",
    "\n",
    "\tpost_exp = \"AB+CD-\"\n",
    "\t\n",
    "\t# Function call\n",
    "\tprint(\"Prefix : \", postToPre(post_exp))\n"
   ]
  },
  {
   "cell_type": "code",
   "execution_count": 15,
   "id": "145c23f2",
   "metadata": {},
   "outputs": [],
   "source": [
    "#Write a program to convert prefix expression to infix expression"
   ]
  },
  {
   "cell_type": "code",
   "execution_count": 16,
   "id": "35c3143f",
   "metadata": {},
   "outputs": [
    {
     "name": "stdout",
     "output_type": "stream",
     "text": [
      "((A-(B/C))*((A/K)-L))\n"
     ]
    }
   ],
   "source": [
    "# Python Program to convert prefix to Infix\n",
    "def prefixToInfix(prefix):\n",
    "\tstack = []\n",
    "\t\n",
    "\t# read prefix in reverse order\n",
    "\ti = len(prefix) - 1\n",
    "\twhile i >= 0:\n",
    "\t\tif not isOperator(prefix[i]):\n",
    "\t\t\t\n",
    "\t\t\t# symbol is operand\n",
    "\t\t\tstack.append(prefix[i])\n",
    "\t\t\ti -= 1\n",
    "\t\telse:\n",
    "\t\t\n",
    "\t\t\t# symbol is operator\n",
    "\t\t\tstr = \"(\" + stack.pop() + prefix[i] + stack.pop() + \")\"\n",
    "\t\t\tstack.append(str)\n",
    "\t\t\ti -= 1\n",
    "\t\n",
    "\treturn stack.pop()\n",
    "\n",
    "def isOperator(c):\n",
    "\tif c == \"*\" or c == \"+\" or c == \"-\" or c == \"/\" or c == \"^\" or c == \"(\" or c == \")\":\n",
    "\t\treturn True\n",
    "\telse:\n",
    "\t\treturn False\n",
    "\n",
    "# Driver code\n",
    "if __name__==\"__main__\":\n",
    "\tstr = \"*-A/BC-/AKL\"\n",
    "\tprint(prefixToInfix(str))\n",
    "\t\n",
    "\n"
   ]
  },
  {
   "cell_type": "code",
   "execution_count": 17,
   "id": "08db5d77",
   "metadata": {},
   "outputs": [],
   "source": [
    "#Write a program to check if all the brackets are closed in a given code snippet."
   ]
  },
  {
   "cell_type": "code",
   "execution_count": 18,
   "id": "3f78d6cf",
   "metadata": {},
   "outputs": [
    {
     "name": "stdout",
     "output_type": "stream",
     "text": [
      "Balanced\n"
     ]
    }
   ],
   "source": [
    "# Python3 program to check for\n",
    "# balanced brackets.\n",
    "\n",
    "# function to check if\n",
    "# brackets are balanced\n",
    "\n",
    "\n",
    "def areBracketsBalanced(expr):\n",
    "\tstack = []\n",
    "\n",
    "\t# Traversing the Expression\n",
    "\tfor char in expr:\n",
    "\t\tif char in [\"(\", \"{\", \"[\"]:\n",
    "\n",
    "\t\t\t# Push the element in the stack\n",
    "\t\t\tstack.append(char)\n",
    "\t\telse:\n",
    "\n",
    "\t\t\t# IF current character is not opening\n",
    "\t\t\t# bracket, then it must be closing.\n",
    "\t\t\t# So stack cannot be empty at this point.\n",
    "\t\t\tif not stack:\n",
    "\t\t\t\treturn False\n",
    "\t\t\tcurrent_char = stack.pop()\n",
    "\t\t\tif current_char == '(':\n",
    "\t\t\t\tif char != \")\":\n",
    "\t\t\t\t\treturn False\n",
    "\t\t\tif current_char == '{':\n",
    "\t\t\t\tif char != \"}\":\n",
    "\t\t\t\t\treturn False\n",
    "\t\t\tif current_char == '[':\n",
    "\t\t\t\tif char != \"]\":\n",
    "\t\t\t\t\treturn False\n",
    "\n",
    "\t# Check Empty Stack\n",
    "\tif stack:\n",
    "\t\treturn False\n",
    "\treturn True\n",
    "\n",
    "\n",
    "# Driver Code\n",
    "if __name__ == \"__main__\":\n",
    "\texpr = \"{()}[]\"\n",
    "\n",
    "\t# Function call\n",
    "\tif areBracketsBalanced(expr):\n",
    "\t\tprint(\"Balanced\")\n",
    "\telse:\n",
    "\t\tprint(\"Not Balanced\")\n",
    "\n"
   ]
  },
  {
   "cell_type": "code",
   "execution_count": 19,
   "id": "8b3e856b",
   "metadata": {},
   "outputs": [],
   "source": []
  },
  {
   "cell_type": "code",
   "execution_count": null,
   "id": "fedae123",
   "metadata": {},
   "outputs": [],
   "source": []
  },
  {
   "cell_type": "code",
   "execution_count": null,
   "id": "2a60dde1",
   "metadata": {},
   "outputs": [],
   "source": []
  }
 ],
 "metadata": {
  "kernelspec": {
   "display_name": "Python 3 (ipykernel)",
   "language": "python",
   "name": "python3"
  },
  "language_info": {
   "codemirror_mode": {
    "name": "ipython",
    "version": 3
   },
   "file_extension": ".py",
   "mimetype": "text/x-python",
   "name": "python",
   "nbconvert_exporter": "python",
   "pygments_lexer": "ipython3",
   "version": "3.9.12"
  }
 },
 "nbformat": 4,
 "nbformat_minor": 5
}
